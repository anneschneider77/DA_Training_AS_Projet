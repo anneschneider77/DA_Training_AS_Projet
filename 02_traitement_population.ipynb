{
 "cells": [
  {
   "cell_type": "code",
   "execution_count": 10,
   "metadata": {},
   "outputs": [],
   "source": [
    "import pandas as pd\n",
    "import numpy as np\n",
    "from tqdm import tqdm\n",
    "import re\n",
    "import matplotlib.pyplot as plt\n",
    "%matplotlib inline\n",
    "\n",
    "pd.set_option('display.max_columns', 500)\n",
    "\n",
    "from utils import normalize\n"
   ]
  },
  {
   "cell_type": "code",
   "execution_count": 11,
   "metadata": {},
   "outputs": [
    {
     "name": "stderr",
     "output_type": "stream",
     "text": [
      "C:\\Users\\A1BY3ZZ\\Anaconda3\\lib\\site-packages\\IPython\\core\\interactiveshell.py:3146: DtypeWarning: Columns (1) have mixed types.Specify dtype option on import or set low_memory=False.\n",
      "  has_raised = await self.run_ast_nodes(code_ast.body, cell_name,\n"
     ]
    },
    {
     "data": {
      "text/html": [
       "<div>\n",
       "<style scoped>\n",
       "    .dataframe tbody tr th:only-of-type {\n",
       "        vertical-align: middle;\n",
       "    }\n",
       "\n",
       "    .dataframe tbody tr th {\n",
       "        vertical-align: top;\n",
       "    }\n",
       "\n",
       "    .dataframe thead th {\n",
       "        text-align: right;\n",
       "    }\n",
       "</style>\n",
       "<table border=\"1\" class=\"dataframe\">\n",
       "  <thead>\n",
       "    <tr style=\"text-align: right;\">\n",
       "      <th></th>\n",
       "      <th>NIVGEO</th>\n",
       "      <th>CODGEO</th>\n",
       "      <th>LIBGEO</th>\n",
       "      <th>MOCO</th>\n",
       "      <th>AGEQ80_17</th>\n",
       "      <th>SEXE</th>\n",
       "      <th>NB</th>\n",
       "    </tr>\n",
       "  </thead>\n",
       "  <tbody>\n",
       "    <tr>\n",
       "      <th>0</th>\n",
       "      <td>COM</td>\n",
       "      <td>1001</td>\n",
       "      <td>L'Abergement-Clémenciat</td>\n",
       "      <td>11</td>\n",
       "      <td>0</td>\n",
       "      <td>1</td>\n",
       "      <td>15</td>\n",
       "    </tr>\n",
       "    <tr>\n",
       "      <th>1</th>\n",
       "      <td>COM</td>\n",
       "      <td>1001</td>\n",
       "      <td>L'Abergement-Clémenciat</td>\n",
       "      <td>11</td>\n",
       "      <td>0</td>\n",
       "      <td>2</td>\n",
       "      <td>15</td>\n",
       "    </tr>\n",
       "    <tr>\n",
       "      <th>2</th>\n",
       "      <td>COM</td>\n",
       "      <td>1001</td>\n",
       "      <td>L'Abergement-Clémenciat</td>\n",
       "      <td>11</td>\n",
       "      <td>5</td>\n",
       "      <td>1</td>\n",
       "      <td>20</td>\n",
       "    </tr>\n",
       "    <tr>\n",
       "      <th>3</th>\n",
       "      <td>COM</td>\n",
       "      <td>1001</td>\n",
       "      <td>L'Abergement-Clémenciat</td>\n",
       "      <td>11</td>\n",
       "      <td>5</td>\n",
       "      <td>2</td>\n",
       "      <td>20</td>\n",
       "    </tr>\n",
       "    <tr>\n",
       "      <th>4</th>\n",
       "      <td>COM</td>\n",
       "      <td>1001</td>\n",
       "      <td>L'Abergement-Clémenciat</td>\n",
       "      <td>11</td>\n",
       "      <td>10</td>\n",
       "      <td>1</td>\n",
       "      <td>20</td>\n",
       "    </tr>\n",
       "  </tbody>\n",
       "</table>\n",
       "</div>"
      ],
      "text/plain": [
       "  NIVGEO CODGEO                   LIBGEO  MOCO  AGEQ80_17  SEXE  NB\n",
       "0    COM   1001  L'Abergement-Clémenciat    11          0     1  15\n",
       "1    COM   1001  L'Abergement-Clémenciat    11          0     2  15\n",
       "2    COM   1001  L'Abergement-Clémenciat    11          5     1  20\n",
       "3    COM   1001  L'Abergement-Clémenciat    11          5     2  20\n",
       "4    COM   1001  L'Abergement-Clémenciat    11         10     1  20"
      ]
     },
     "execution_count": 11,
     "metadata": {},
     "output_type": "execute_result"
    }
   ],
   "source": [
    "path = 'population.csv'\n",
    "\n",
    "df = pd.read_csv(path)\n",
    "df.head()"
   ]
  },
  {
   "cell_type": "code",
   "execution_count": 12,
   "metadata": {},
   "outputs": [],
   "source": [
    "df.columns = [normalize(c) for c in df.columns]"
   ]
  },
  {
   "cell_type": "code",
   "execution_count": 13,
   "metadata": {},
   "outputs": [],
   "source": [
    "df = df[[c for c in df.columns if c != 'nivgeo']]"
   ]
  },
  {
   "cell_type": "code",
   "execution_count": 14,
   "metadata": {},
   "outputs": [
    {
     "name": "stdout",
     "output_type": "stream",
     "text": [
      "<class 'pandas.core.frame.DataFrame'>\n",
      "RangeIndex: 8536584 entries, 0 to 8536583\n",
      "Data columns (total 6 columns):\n",
      " #   Column     Dtype \n",
      "---  ------     ----- \n",
      " 0   codgeo     object\n",
      " 1   libgeo     object\n",
      " 2   moco       int64 \n",
      " 3   ageq80_17  int64 \n",
      " 4   sexe       int64 \n",
      " 5   nb         int64 \n",
      "dtypes: int64(4), object(2)\n",
      "memory usage: 390.8+ MB\n"
     ]
    }
   ],
   "source": [
    "df.info()"
   ]
  },
  {
   "cell_type": "code",
   "execution_count": 15,
   "metadata": {},
   "outputs": [
    {
     "data": {
      "text/plain": [
       "codgeo       0\n",
       "libgeo       0\n",
       "moco         0\n",
       "ageq80_17    0\n",
       "sexe         0\n",
       "nb           0\n",
       "dtype: int64"
      ]
     },
     "execution_count": 15,
     "metadata": {},
     "output_type": "execute_result"
    }
   ],
   "source": [
    "df.isna().sum()"
   ]
  },
  {
   "cell_type": "markdown",
   "metadata": {},
   "source": [
    "## Exclusion de la Corse"
   ]
  },
  {
   "cell_type": "code",
   "execution_count": 16,
   "metadata": {},
   "outputs": [],
   "source": [
    "df = df[df['codgeo'].astype(str).apply(lambda x: ('A' not in x) and ('B' not in x))]"
   ]
  },
  {
   "cell_type": "code",
   "execution_count": 17,
   "metadata": {},
   "outputs": [],
   "source": [
    "df['codgeo'] = df['codgeo'].astype(int)"
   ]
  },
  {
   "cell_type": "code",
   "execution_count": 18,
   "metadata": {},
   "outputs": [
    {
     "data": {
      "text/plain": [
       "array([11, 12, 21, 22, 23, 31, 32], dtype=int64)"
      ]
     },
     "execution_count": 18,
     "metadata": {},
     "output_type": "execute_result"
    }
   ],
   "source": [
    "df['moco'].unique()"
   ]
  },
  {
   "cell_type": "markdown",
   "metadata": {},
   "source": [
    "## Remplacement des DOM TOM"
   ]
  },
  {
   "cell_type": "code",
   "execution_count": 19,
   "metadata": {},
   "outputs": [],
   "source": [
    "df = df[df['codgeo'] < 96000]"
   ]
  },
  {
   "cell_type": "markdown",
   "metadata": {},
   "source": [
    "## Remplacement moco"
   ]
  },
  {
   "cell_type": "code",
   "execution_count": 20,
   "metadata": {},
   "outputs": [
    {
     "data": {
      "text/plain": [
       "{11: 'enfant_dun_couple',\n",
       " 12: 'enfant_dune_famille_monoparentale',\n",
       " 21: 'adulte_dun_couple_sans_enfant',\n",
       " 22: 'adulte_dun_couple_avec_enfant(s)',\n",
       " 23: 'adulte_dune_famille_monoparentale',\n",
       " 31: 'personne_vivant_hors_famille_dans_un_menage_de_plusieurs_personnes',\n",
       " 32: 'personne_vivant_seule',\n",
       " 40: 'personne_vivant_hors_menage'}"
      ]
     },
     "execution_count": 20,
     "metadata": {},
     "output_type": "execute_result"
    }
   ],
   "source": [
    "correspondance_moco = {\n",
    "    11: 'Enfant d’un couple',\n",
    "    12: 'Enfant d’une famille monoparentale',\n",
    "    21: 'Adulte d’un couple sans enfant',\n",
    "    22: 'Adulte d’un couple avec enfant(s)',\n",
    "    23: 'Adulte d’une famille monoparentale',\n",
    "    31: 'Personne vivant hors famille dans un ménage de plusieurs personnes',\n",
    "    32: 'Personne vivant seule',\n",
    "    40: 'Personne vivant hors ménage'\n",
    "    }\n",
    "\n",
    "\n",
    "for key in correspondance_moco:\n",
    "    correspondance_moco[key] = normalize(correspondance_moco[key])\n",
    "    \n",
    "correspondance_moco"
   ]
  },
  {
   "cell_type": "code",
   "execution_count": 21,
   "metadata": {},
   "outputs": [],
   "source": [
    "df['moco'] = df['moco'].replace(correspondance_moco)"
   ]
  },
  {
   "cell_type": "code",
   "execution_count": 22,
   "metadata": {},
   "outputs": [
    {
     "data": {
      "text/html": [
       "<div>\n",
       "<style scoped>\n",
       "    .dataframe tbody tr th:only-of-type {\n",
       "        vertical-align: middle;\n",
       "    }\n",
       "\n",
       "    .dataframe tbody tr th {\n",
       "        vertical-align: top;\n",
       "    }\n",
       "\n",
       "    .dataframe thead th {\n",
       "        text-align: right;\n",
       "    }\n",
       "</style>\n",
       "<table border=\"1\" class=\"dataframe\">\n",
       "  <thead>\n",
       "    <tr style=\"text-align: right;\">\n",
       "      <th></th>\n",
       "      <th>codgeo</th>\n",
       "      <th>libgeo</th>\n",
       "      <th>moco</th>\n",
       "      <th>ageq80_17</th>\n",
       "      <th>sexe</th>\n",
       "      <th>nb</th>\n",
       "    </tr>\n",
       "  </thead>\n",
       "  <tbody>\n",
       "    <tr>\n",
       "      <th>0</th>\n",
       "      <td>1001</td>\n",
       "      <td>L'Abergement-Clémenciat</td>\n",
       "      <td>enfant_dun_couple</td>\n",
       "      <td>0</td>\n",
       "      <td>1</td>\n",
       "      <td>15</td>\n",
       "    </tr>\n",
       "    <tr>\n",
       "      <th>1</th>\n",
       "      <td>1001</td>\n",
       "      <td>L'Abergement-Clémenciat</td>\n",
       "      <td>enfant_dun_couple</td>\n",
       "      <td>0</td>\n",
       "      <td>2</td>\n",
       "      <td>15</td>\n",
       "    </tr>\n",
       "    <tr>\n",
       "      <th>2</th>\n",
       "      <td>1001</td>\n",
       "      <td>L'Abergement-Clémenciat</td>\n",
       "      <td>enfant_dun_couple</td>\n",
       "      <td>5</td>\n",
       "      <td>1</td>\n",
       "      <td>20</td>\n",
       "    </tr>\n",
       "    <tr>\n",
       "      <th>3</th>\n",
       "      <td>1001</td>\n",
       "      <td>L'Abergement-Clémenciat</td>\n",
       "      <td>enfant_dun_couple</td>\n",
       "      <td>5</td>\n",
       "      <td>2</td>\n",
       "      <td>20</td>\n",
       "    </tr>\n",
       "    <tr>\n",
       "      <th>4</th>\n",
       "      <td>1001</td>\n",
       "      <td>L'Abergement-Clémenciat</td>\n",
       "      <td>enfant_dun_couple</td>\n",
       "      <td>10</td>\n",
       "      <td>1</td>\n",
       "      <td>20</td>\n",
       "    </tr>\n",
       "  </tbody>\n",
       "</table>\n",
       "</div>"
      ],
      "text/plain": [
       "   codgeo                   libgeo               moco  ageq80_17  sexe  nb\n",
       "0    1001  L'Abergement-Clémenciat  enfant_dun_couple          0     1  15\n",
       "1    1001  L'Abergement-Clémenciat  enfant_dun_couple          0     2  15\n",
       "2    1001  L'Abergement-Clémenciat  enfant_dun_couple          5     1  20\n",
       "3    1001  L'Abergement-Clémenciat  enfant_dun_couple          5     2  20\n",
       "4    1001  L'Abergement-Clémenciat  enfant_dun_couple         10     1  20"
      ]
     },
     "execution_count": 22,
     "metadata": {},
     "output_type": "execute_result"
    }
   ],
   "source": [
    "df.head()"
   ]
  },
  {
   "cell_type": "markdown",
   "metadata": {},
   "source": [
    "## Remplacement sexe"
   ]
  },
  {
   "cell_type": "code",
   "execution_count": 23,
   "metadata": {},
   "outputs": [
    {
     "data": {
      "text/html": [
       "<div>\n",
       "<style scoped>\n",
       "    .dataframe tbody tr th:only-of-type {\n",
       "        vertical-align: middle;\n",
       "    }\n",
       "\n",
       "    .dataframe tbody tr th {\n",
       "        vertical-align: top;\n",
       "    }\n",
       "\n",
       "    .dataframe thead th {\n",
       "        text-align: right;\n",
       "    }\n",
       "</style>\n",
       "<table border=\"1\" class=\"dataframe\">\n",
       "  <thead>\n",
       "    <tr style=\"text-align: right;\">\n",
       "      <th></th>\n",
       "      <th>codgeo</th>\n",
       "      <th>libgeo</th>\n",
       "      <th>moco</th>\n",
       "      <th>ageq80_17</th>\n",
       "      <th>sexe</th>\n",
       "      <th>nb</th>\n",
       "    </tr>\n",
       "  </thead>\n",
       "  <tbody>\n",
       "    <tr>\n",
       "      <th>0</th>\n",
       "      <td>1001</td>\n",
       "      <td>L'Abergement-Clémenciat</td>\n",
       "      <td>enfant_dun_couple</td>\n",
       "      <td>0</td>\n",
       "      <td>homme</td>\n",
       "      <td>15</td>\n",
       "    </tr>\n",
       "    <tr>\n",
       "      <th>1</th>\n",
       "      <td>1001</td>\n",
       "      <td>L'Abergement-Clémenciat</td>\n",
       "      <td>enfant_dun_couple</td>\n",
       "      <td>0</td>\n",
       "      <td>femme</td>\n",
       "      <td>15</td>\n",
       "    </tr>\n",
       "    <tr>\n",
       "      <th>2</th>\n",
       "      <td>1001</td>\n",
       "      <td>L'Abergement-Clémenciat</td>\n",
       "      <td>enfant_dun_couple</td>\n",
       "      <td>5</td>\n",
       "      <td>homme</td>\n",
       "      <td>20</td>\n",
       "    </tr>\n",
       "    <tr>\n",
       "      <th>3</th>\n",
       "      <td>1001</td>\n",
       "      <td>L'Abergement-Clémenciat</td>\n",
       "      <td>enfant_dun_couple</td>\n",
       "      <td>5</td>\n",
       "      <td>femme</td>\n",
       "      <td>20</td>\n",
       "    </tr>\n",
       "    <tr>\n",
       "      <th>4</th>\n",
       "      <td>1001</td>\n",
       "      <td>L'Abergement-Clémenciat</td>\n",
       "      <td>enfant_dun_couple</td>\n",
       "      <td>10</td>\n",
       "      <td>homme</td>\n",
       "      <td>20</td>\n",
       "    </tr>\n",
       "  </tbody>\n",
       "</table>\n",
       "</div>"
      ],
      "text/plain": [
       "   codgeo                   libgeo               moco  ageq80_17   sexe  nb\n",
       "0    1001  L'Abergement-Clémenciat  enfant_dun_couple          0  homme  15\n",
       "1    1001  L'Abergement-Clémenciat  enfant_dun_couple          0  femme  15\n",
       "2    1001  L'Abergement-Clémenciat  enfant_dun_couple          5  homme  20\n",
       "3    1001  L'Abergement-Clémenciat  enfant_dun_couple          5  femme  20\n",
       "4    1001  L'Abergement-Clémenciat  enfant_dun_couple         10  homme  20"
      ]
     },
     "execution_count": 23,
     "metadata": {},
     "output_type": "execute_result"
    }
   ],
   "source": [
    "df['sexe'] = df['sexe'].replace({1: 'homme', 2: 'femme'})\n",
    "df.head()"
   ]
  },
  {
   "cell_type": "markdown",
   "metadata": {},
   "source": [
    "## Remplacement age"
   ]
  },
  {
   "cell_type": "code",
   "execution_count": 24,
   "metadata": {},
   "outputs": [
    {
     "data": {
      "text/plain": [
       "array([ 0,  5, 10, 15, 20, 25, 30, 35, 40, 45, 50, 55, 60, 65, 70, 75, 80],\n",
       "      dtype=int64)"
      ]
     },
     "execution_count": 24,
     "metadata": {},
     "output_type": "execute_result"
    }
   ],
   "source": [
    "ages = df['ageq80_17'].unique()\n",
    "ages"
   ]
  },
  {
   "cell_type": "code",
   "execution_count": 25,
   "metadata": {},
   "outputs": [
    {
     "data": {
      "text/plain": [
       "{0: '0-5',\n",
       " 5: '5-10',\n",
       " 10: '10-15',\n",
       " 15: '15-20',\n",
       " 20: '20-25',\n",
       " 25: '25-30',\n",
       " 30: '30-35',\n",
       " 35: '35-40',\n",
       " 40: '40-45',\n",
       " 45: '45-50',\n",
       " 50: '50-55',\n",
       " 55: '55-60',\n",
       " 60: '60-65',\n",
       " 65: '65-70',\n",
       " 70: '70-75',\n",
       " 75: '75-80',\n",
       " 80: '80+'}"
      ]
     },
     "execution_count": 25,
     "metadata": {},
     "output_type": "execute_result"
    }
   ],
   "source": [
    "correspondance_age = {\n",
    "    i: '{}-{}'.format(i, j) for i, j in zip(ages[:-1], ages[1:])\n",
    "}\n",
    "\n",
    "correspondance_age[80] = '80+'\n",
    "\n",
    "correspondance_age"
   ]
  },
  {
   "cell_type": "code",
   "execution_count": 26,
   "metadata": {},
   "outputs": [],
   "source": [
    "df['ageq80_17'] = df['ageq80_17'].replace(correspondance_age)"
   ]
  },
  {
   "cell_type": "code",
   "execution_count": 27,
   "metadata": {},
   "outputs": [],
   "source": [
    "df = df.rename(columns={'ageq80_17': 'age', 'moco': 'mode_cohabitation'})"
   ]
  },
  {
   "cell_type": "code",
   "execution_count": 28,
   "metadata": {},
   "outputs": [
    {
     "data": {
      "text/html": [
       "<div>\n",
       "<style scoped>\n",
       "    .dataframe tbody tr th:only-of-type {\n",
       "        vertical-align: middle;\n",
       "    }\n",
       "\n",
       "    .dataframe tbody tr th {\n",
       "        vertical-align: top;\n",
       "    }\n",
       "\n",
       "    .dataframe thead th {\n",
       "        text-align: right;\n",
       "    }\n",
       "</style>\n",
       "<table border=\"1\" class=\"dataframe\">\n",
       "  <thead>\n",
       "    <tr style=\"text-align: right;\">\n",
       "      <th></th>\n",
       "      <th>codgeo</th>\n",
       "      <th>libgeo</th>\n",
       "      <th>mode_cohabitation</th>\n",
       "      <th>age</th>\n",
       "      <th>sexe</th>\n",
       "      <th>nb</th>\n",
       "    </tr>\n",
       "  </thead>\n",
       "  <tbody>\n",
       "    <tr>\n",
       "      <th>0</th>\n",
       "      <td>1001</td>\n",
       "      <td>L'Abergement-Clémenciat</td>\n",
       "      <td>enfant_dun_couple</td>\n",
       "      <td>0-5</td>\n",
       "      <td>homme</td>\n",
       "      <td>15</td>\n",
       "    </tr>\n",
       "    <tr>\n",
       "      <th>1</th>\n",
       "      <td>1001</td>\n",
       "      <td>L'Abergement-Clémenciat</td>\n",
       "      <td>enfant_dun_couple</td>\n",
       "      <td>0-5</td>\n",
       "      <td>femme</td>\n",
       "      <td>15</td>\n",
       "    </tr>\n",
       "    <tr>\n",
       "      <th>2</th>\n",
       "      <td>1001</td>\n",
       "      <td>L'Abergement-Clémenciat</td>\n",
       "      <td>enfant_dun_couple</td>\n",
       "      <td>5-10</td>\n",
       "      <td>homme</td>\n",
       "      <td>20</td>\n",
       "    </tr>\n",
       "    <tr>\n",
       "      <th>3</th>\n",
       "      <td>1001</td>\n",
       "      <td>L'Abergement-Clémenciat</td>\n",
       "      <td>enfant_dun_couple</td>\n",
       "      <td>5-10</td>\n",
       "      <td>femme</td>\n",
       "      <td>20</td>\n",
       "    </tr>\n",
       "    <tr>\n",
       "      <th>4</th>\n",
       "      <td>1001</td>\n",
       "      <td>L'Abergement-Clémenciat</td>\n",
       "      <td>enfant_dun_couple</td>\n",
       "      <td>10-15</td>\n",
       "      <td>homme</td>\n",
       "      <td>20</td>\n",
       "    </tr>\n",
       "  </tbody>\n",
       "</table>\n",
       "</div>"
      ],
      "text/plain": [
       "   codgeo                   libgeo  mode_cohabitation    age   sexe  nb\n",
       "0    1001  L'Abergement-Clémenciat  enfant_dun_couple    0-5  homme  15\n",
       "1    1001  L'Abergement-Clémenciat  enfant_dun_couple    0-5  femme  15\n",
       "2    1001  L'Abergement-Clémenciat  enfant_dun_couple   5-10  homme  20\n",
       "3    1001  L'Abergement-Clémenciat  enfant_dun_couple   5-10  femme  20\n",
       "4    1001  L'Abergement-Clémenciat  enfant_dun_couple  10-15  homme  20"
      ]
     },
     "execution_count": 28,
     "metadata": {},
     "output_type": "execute_result"
    }
   ],
   "source": [
    "df.head()"
   ]
  },
  {
   "cell_type": "markdown",
   "metadata": {},
   "source": [
    "## Gestion des villes avec arrondissements"
   ]
  },
  {
   "cell_type": "code",
   "execution_count": 29,
   "metadata": {},
   "outputs": [],
   "source": [
    "number = re.compile('[0-9]+')\n",
    "df_arrondissements = df[df['libgeo'].astype(str).apply(lambda x: len(number.findall(x))> 0)]"
   ]
  },
  {
   "cell_type": "code",
   "execution_count": 30,
   "metadata": {},
   "outputs": [
    {
     "name": "stdout",
     "output_type": "stream",
     "text": [
      "(0, 6)\n"
     ]
    },
    {
     "data": {
      "text/html": [
       "<div>\n",
       "<style scoped>\n",
       "    .dataframe tbody tr th:only-of-type {\n",
       "        vertical-align: middle;\n",
       "    }\n",
       "\n",
       "    .dataframe tbody tr th {\n",
       "        vertical-align: top;\n",
       "    }\n",
       "\n",
       "    .dataframe thead th {\n",
       "        text-align: right;\n",
       "    }\n",
       "</style>\n",
       "<table border=\"1\" class=\"dataframe\">\n",
       "  <thead>\n",
       "    <tr style=\"text-align: right;\">\n",
       "      <th></th>\n",
       "      <th>codgeo</th>\n",
       "      <th>libgeo</th>\n",
       "      <th>mode_cohabitation</th>\n",
       "      <th>age</th>\n",
       "      <th>sexe</th>\n",
       "      <th>nb</th>\n",
       "    </tr>\n",
       "  </thead>\n",
       "  <tbody>\n",
       "  </tbody>\n",
       "</table>\n",
       "</div>"
      ],
      "text/plain": [
       "Empty DataFrame\n",
       "Columns: [codgeo, libgeo, mode_cohabitation, age, sexe, nb]\n",
       "Index: []"
      ]
     },
     "execution_count": 30,
     "metadata": {},
     "output_type": "execute_result"
    }
   ],
   "source": [
    "print(df_arrondissements.shape)\n",
    "df_arrondissements"
   ]
  },
  {
   "cell_type": "code",
   "execution_count": 31,
   "metadata": {},
   "outputs": [
    {
     "data": {
      "text/plain": [
       "array([75056])"
      ]
     },
     "execution_count": 31,
     "metadata": {},
     "output_type": "execute_result"
    }
   ],
   "source": [
    "df[df['libgeo'] == 'Paris']['codgeo'].unique()"
   ]
  },
  {
   "cell_type": "code",
   "execution_count": 32,
   "metadata": {},
   "outputs": [
    {
     "data": {
      "text/plain": [
       "array([13055])"
      ]
     },
     "execution_count": 32,
     "metadata": {},
     "output_type": "execute_result"
    }
   ],
   "source": [
    "df[df['libgeo'] == 'Marseille']['codgeo'].unique()"
   ]
  },
  {
   "cell_type": "code",
   "execution_count": 33,
   "metadata": {},
   "outputs": [
    {
     "data": {
      "text/plain": [
       "array([69123])"
      ]
     },
     "execution_count": 33,
     "metadata": {},
     "output_type": "execute_result"
    }
   ],
   "source": [
    "df[df['libgeo'] == 'Lyon']['codgeo'].unique()"
   ]
  },
  {
   "cell_type": "code",
   "execution_count": 34,
   "metadata": {},
   "outputs": [],
   "source": [
    "# on remplace le libgeo de Paris, Lyon et Marseille\n",
    "\n",
    "df.loc[df['libgeo'] == 'Paris', 'codgeo'] = 75000\n",
    "df.loc[df['libgeo'] == 'Marseille', 'codgeo'] = 13000\n",
    "df.loc[df['libgeo'] == 'Lyon', 'codgeo'] = 69000\n"
   ]
  },
  {
   "cell_type": "markdown",
   "metadata": {},
   "source": [
    "## Formattage des données\n"
   ]
  },
  {
   "cell_type": "code",
   "execution_count": 36,
   "metadata": {},
   "outputs": [],
   "source": [
    "dfs = []\n",
    "\n",
    "for col in ['age', 'sexe', 'mode_cohabitation']:\n",
    "    for val in df[col].unique():\n",
    "        #créer un df pour chque sum de NB par variable\n",
    "        df_temp = df[df[col] == val].groupby(['libgeo', 'codgeo']).agg({'nb': sum}).reset_index()\n",
    "        # pour renommer les colonnes \n",
    "        df_temp = df_temp.rename(columns={'nb': 'pop_{}_{}'.format(col, val)})\n",
    "        \n",
    "        dfs.append(df_temp)"
   ]
  },
  {
   "cell_type": "code",
   "execution_count": 37,
   "metadata": {},
   "outputs": [
    {
     "data": {
      "text/html": [
       "<div>\n",
       "<style scoped>\n",
       "    .dataframe tbody tr th:only-of-type {\n",
       "        vertical-align: middle;\n",
       "    }\n",
       "\n",
       "    .dataframe tbody tr th {\n",
       "        vertical-align: top;\n",
       "    }\n",
       "\n",
       "    .dataframe thead th {\n",
       "        text-align: right;\n",
       "    }\n",
       "</style>\n",
       "<table border=\"1\" class=\"dataframe\">\n",
       "  <thead>\n",
       "    <tr style=\"text-align: right;\">\n",
       "      <th></th>\n",
       "      <th>libgeo</th>\n",
       "      <th>codgeo</th>\n",
       "      <th>pop_total</th>\n",
       "    </tr>\n",
       "  </thead>\n",
       "  <tbody>\n",
       "    <tr>\n",
       "      <th>0</th>\n",
       "      <td>Aast</td>\n",
       "      <td>64001</td>\n",
       "      <td>144</td>\n",
       "    </tr>\n",
       "    <tr>\n",
       "      <th>1</th>\n",
       "      <td>Abainville</td>\n",
       "      <td>55001</td>\n",
       "      <td>272</td>\n",
       "    </tr>\n",
       "    <tr>\n",
       "      <th>2</th>\n",
       "      <td>Abancourt</td>\n",
       "      <td>59001</td>\n",
       "      <td>436</td>\n",
       "    </tr>\n",
       "    <tr>\n",
       "      <th>3</th>\n",
       "      <td>Abancourt</td>\n",
       "      <td>60001</td>\n",
       "      <td>592</td>\n",
       "    </tr>\n",
       "    <tr>\n",
       "      <th>4</th>\n",
       "      <td>Abaucourt</td>\n",
       "      <td>54001</td>\n",
       "      <td>290</td>\n",
       "    </tr>\n",
       "  </tbody>\n",
       "</table>\n",
       "</div>"
      ],
      "text/plain": [
       "       libgeo  codgeo  pop_total\n",
       "0        Aast   64001        144\n",
       "1  Abainville   55001        272\n",
       "2   Abancourt   59001        436\n",
       "3   Abancourt   60001        592\n",
       "4   Abaucourt   54001        290"
      ]
     },
     "execution_count": 37,
     "metadata": {},
     "output_type": "execute_result"
    }
   ],
   "source": [
    "df_total = df.groupby(['libgeo', 'codgeo']).agg({'nb': sum}).reset_index()\n",
    "\n",
    "df_total = df_total.rename(columns={'nb': 'pop_total'})\n",
    "df_total.head()"
   ]
  },
  {
   "cell_type": "code",
   "execution_count": 38,
   "metadata": {},
   "outputs": [],
   "source": [
    "# pour merger tous les df_temp inclus dans dfs: \n",
    "for df_temp in dfs:\n",
    "    df_total = pd.merge(\n",
    "        left=df_total,\n",
    "        right=df_temp,\n",
    "        on=['libgeo', 'codgeo'],\n",
    "        how='left'\n",
    "    )"
   ]
  },
  {
   "cell_type": "code",
   "execution_count": 39,
   "metadata": {},
   "outputs": [
    {
     "data": {
      "text/html": [
       "<div>\n",
       "<style scoped>\n",
       "    .dataframe tbody tr th:only-of-type {\n",
       "        vertical-align: middle;\n",
       "    }\n",
       "\n",
       "    .dataframe tbody tr th {\n",
       "        vertical-align: top;\n",
       "    }\n",
       "\n",
       "    .dataframe thead th {\n",
       "        text-align: right;\n",
       "    }\n",
       "</style>\n",
       "<table border=\"1\" class=\"dataframe\">\n",
       "  <thead>\n",
       "    <tr style=\"text-align: right;\">\n",
       "      <th></th>\n",
       "      <th>libgeo</th>\n",
       "      <th>codgeo</th>\n",
       "      <th>pop_total</th>\n",
       "      <th>pop_age_0-5</th>\n",
       "      <th>pop_age_5-10</th>\n",
       "      <th>pop_age_10-15</th>\n",
       "      <th>pop_age_15-20</th>\n",
       "      <th>pop_age_20-25</th>\n",
       "      <th>pop_age_25-30</th>\n",
       "      <th>pop_age_30-35</th>\n",
       "      <th>pop_age_35-40</th>\n",
       "      <th>pop_age_40-45</th>\n",
       "      <th>pop_age_45-50</th>\n",
       "      <th>pop_age_50-55</th>\n",
       "      <th>pop_age_55-60</th>\n",
       "      <th>pop_age_60-65</th>\n",
       "      <th>pop_age_65-70</th>\n",
       "      <th>pop_age_70-75</th>\n",
       "      <th>pop_age_75-80</th>\n",
       "      <th>pop_age_80+</th>\n",
       "      <th>pop_sexe_homme</th>\n",
       "      <th>pop_sexe_femme</th>\n",
       "      <th>pop_mode_cohabitation_enfant_dun_couple</th>\n",
       "      <th>pop_mode_cohabitation_enfant_dune_famille_monoparentale</th>\n",
       "      <th>pop_mode_cohabitation_adulte_dun_couple_sans_enfant</th>\n",
       "      <th>pop_mode_cohabitation_adulte_dun_couple_avec_enfant(s)</th>\n",
       "      <th>pop_mode_cohabitation_adulte_dune_famille_monoparentale</th>\n",
       "      <th>pop_mode_cohabitation_personne_vivant_hors_famille_dans_un_menage_de_plusieurs_personnes</th>\n",
       "      <th>pop_mode_cohabitation_personne_vivant_seule</th>\n",
       "    </tr>\n",
       "  </thead>\n",
       "  <tbody>\n",
       "    <tr>\n",
       "      <th>0</th>\n",
       "      <td>Aast</td>\n",
       "      <td>64001</td>\n",
       "      <td>144</td>\n",
       "      <td>15</td>\n",
       "      <td>10</td>\n",
       "      <td>10</td>\n",
       "      <td>0</td>\n",
       "      <td>0</td>\n",
       "      <td>0</td>\n",
       "      <td>10</td>\n",
       "      <td>14</td>\n",
       "      <td>16</td>\n",
       "      <td>17</td>\n",
       "      <td>6</td>\n",
       "      <td>18</td>\n",
       "      <td>6</td>\n",
       "      <td>6</td>\n",
       "      <td>6</td>\n",
       "      <td>10</td>\n",
       "      <td>0</td>\n",
       "      <td>74</td>\n",
       "      <td>70</td>\n",
       "      <td>41</td>\n",
       "      <td>0</td>\n",
       "      <td>27</td>\n",
       "      <td>53</td>\n",
       "      <td>0</td>\n",
       "      <td>7</td>\n",
       "      <td>16</td>\n",
       "    </tr>\n",
       "    <tr>\n",
       "      <th>1</th>\n",
       "      <td>Abainville</td>\n",
       "      <td>55001</td>\n",
       "      <td>272</td>\n",
       "      <td>4</td>\n",
       "      <td>18</td>\n",
       "      <td>23</td>\n",
       "      <td>22</td>\n",
       "      <td>13</td>\n",
       "      <td>8</td>\n",
       "      <td>8</td>\n",
       "      <td>18</td>\n",
       "      <td>8</td>\n",
       "      <td>13</td>\n",
       "      <td>22</td>\n",
       "      <td>26</td>\n",
       "      <td>55</td>\n",
       "      <td>14</td>\n",
       "      <td>4</td>\n",
       "      <td>4</td>\n",
       "      <td>12</td>\n",
       "      <td>139</td>\n",
       "      <td>133</td>\n",
       "      <td>80</td>\n",
       "      <td>0</td>\n",
       "      <td>80</td>\n",
       "      <td>88</td>\n",
       "      <td>0</td>\n",
       "      <td>0</td>\n",
       "      <td>24</td>\n",
       "    </tr>\n",
       "    <tr>\n",
       "      <th>2</th>\n",
       "      <td>Abancourt</td>\n",
       "      <td>59001</td>\n",
       "      <td>436</td>\n",
       "      <td>24</td>\n",
       "      <td>24</td>\n",
       "      <td>32</td>\n",
       "      <td>28</td>\n",
       "      <td>28</td>\n",
       "      <td>28</td>\n",
       "      <td>8</td>\n",
       "      <td>28</td>\n",
       "      <td>40</td>\n",
       "      <td>44</td>\n",
       "      <td>28</td>\n",
       "      <td>44</td>\n",
       "      <td>4</td>\n",
       "      <td>8</td>\n",
       "      <td>16</td>\n",
       "      <td>28</td>\n",
       "      <td>24</td>\n",
       "      <td>216</td>\n",
       "      <td>220</td>\n",
       "      <td>120</td>\n",
       "      <td>20</td>\n",
       "      <td>96</td>\n",
       "      <td>136</td>\n",
       "      <td>16</td>\n",
       "      <td>16</td>\n",
       "      <td>32</td>\n",
       "    </tr>\n",
       "    <tr>\n",
       "      <th>3</th>\n",
       "      <td>Abancourt</td>\n",
       "      <td>60001</td>\n",
       "      <td>592</td>\n",
       "      <td>68</td>\n",
       "      <td>53</td>\n",
       "      <td>27</td>\n",
       "      <td>13</td>\n",
       "      <td>40</td>\n",
       "      <td>66</td>\n",
       "      <td>91</td>\n",
       "      <td>8</td>\n",
       "      <td>21</td>\n",
       "      <td>22</td>\n",
       "      <td>49</td>\n",
       "      <td>16</td>\n",
       "      <td>39</td>\n",
       "      <td>27</td>\n",
       "      <td>17</td>\n",
       "      <td>22</td>\n",
       "      <td>13</td>\n",
       "      <td>297</td>\n",
       "      <td>295</td>\n",
       "      <td>176</td>\n",
       "      <td>12</td>\n",
       "      <td>160</td>\n",
       "      <td>179</td>\n",
       "      <td>12</td>\n",
       "      <td>4</td>\n",
       "      <td>49</td>\n",
       "    </tr>\n",
       "    <tr>\n",
       "      <th>4</th>\n",
       "      <td>Abaucourt</td>\n",
       "      <td>54001</td>\n",
       "      <td>290</td>\n",
       "      <td>15</td>\n",
       "      <td>25</td>\n",
       "      <td>15</td>\n",
       "      <td>20</td>\n",
       "      <td>0</td>\n",
       "      <td>15</td>\n",
       "      <td>30</td>\n",
       "      <td>25</td>\n",
       "      <td>15</td>\n",
       "      <td>20</td>\n",
       "      <td>20</td>\n",
       "      <td>0</td>\n",
       "      <td>30</td>\n",
       "      <td>20</td>\n",
       "      <td>5</td>\n",
       "      <td>10</td>\n",
       "      <td>25</td>\n",
       "      <td>140</td>\n",
       "      <td>150</td>\n",
       "      <td>50</td>\n",
       "      <td>35</td>\n",
       "      <td>80</td>\n",
       "      <td>60</td>\n",
       "      <td>25</td>\n",
       "      <td>0</td>\n",
       "      <td>40</td>\n",
       "    </tr>\n",
       "  </tbody>\n",
       "</table>\n",
       "</div>"
      ],
      "text/plain": [
       "       libgeo  codgeo  pop_total  pop_age_0-5  pop_age_5-10  pop_age_10-15  \\\n",
       "0        Aast   64001        144           15            10             10   \n",
       "1  Abainville   55001        272            4            18             23   \n",
       "2   Abancourt   59001        436           24            24             32   \n",
       "3   Abancourt   60001        592           68            53             27   \n",
       "4   Abaucourt   54001        290           15            25             15   \n",
       "\n",
       "   pop_age_15-20  pop_age_20-25  pop_age_25-30  pop_age_30-35  pop_age_35-40  \\\n",
       "0              0              0              0             10             14   \n",
       "1             22             13              8              8             18   \n",
       "2             28             28             28              8             28   \n",
       "3             13             40             66             91              8   \n",
       "4             20              0             15             30             25   \n",
       "\n",
       "   pop_age_40-45  pop_age_45-50  pop_age_50-55  pop_age_55-60  pop_age_60-65  \\\n",
       "0             16             17              6             18              6   \n",
       "1              8             13             22             26             55   \n",
       "2             40             44             28             44              4   \n",
       "3             21             22             49             16             39   \n",
       "4             15             20             20              0             30   \n",
       "\n",
       "   pop_age_65-70  pop_age_70-75  pop_age_75-80  pop_age_80+  pop_sexe_homme  \\\n",
       "0              6              6             10            0              74   \n",
       "1             14              4              4           12             139   \n",
       "2              8             16             28           24             216   \n",
       "3             27             17             22           13             297   \n",
       "4             20              5             10           25             140   \n",
       "\n",
       "   pop_sexe_femme  pop_mode_cohabitation_enfant_dun_couple  \\\n",
       "0              70                                       41   \n",
       "1             133                                       80   \n",
       "2             220                                      120   \n",
       "3             295                                      176   \n",
       "4             150                                       50   \n",
       "\n",
       "   pop_mode_cohabitation_enfant_dune_famille_monoparentale  \\\n",
       "0                                                  0         \n",
       "1                                                  0         \n",
       "2                                                 20         \n",
       "3                                                 12         \n",
       "4                                                 35         \n",
       "\n",
       "   pop_mode_cohabitation_adulte_dun_couple_sans_enfant  \\\n",
       "0                                                 27     \n",
       "1                                                 80     \n",
       "2                                                 96     \n",
       "3                                                160     \n",
       "4                                                 80     \n",
       "\n",
       "   pop_mode_cohabitation_adulte_dun_couple_avec_enfant(s)  \\\n",
       "0                                                 53        \n",
       "1                                                 88        \n",
       "2                                                136        \n",
       "3                                                179        \n",
       "4                                                 60        \n",
       "\n",
       "   pop_mode_cohabitation_adulte_dune_famille_monoparentale  \\\n",
       "0                                                  0         \n",
       "1                                                  0         \n",
       "2                                                 16         \n",
       "3                                                 12         \n",
       "4                                                 25         \n",
       "\n",
       "   pop_mode_cohabitation_personne_vivant_hors_famille_dans_un_menage_de_plusieurs_personnes  \\\n",
       "0                                                  7                                          \n",
       "1                                                  0                                          \n",
       "2                                                 16                                          \n",
       "3                                                  4                                          \n",
       "4                                                  0                                          \n",
       "\n",
       "   pop_mode_cohabitation_personne_vivant_seule  \n",
       "0                                           16  \n",
       "1                                           24  \n",
       "2                                           32  \n",
       "3                                           49  \n",
       "4                                           40  "
      ]
     },
     "execution_count": 39,
     "metadata": {},
     "output_type": "execute_result"
    }
   ],
   "source": [
    "df_total.head()"
   ]
  },
  {
   "cell_type": "code",
   "execution_count": 40,
   "metadata": {},
   "outputs": [
    {
     "data": {
      "text/plain": [
       "(35396, 29)"
      ]
     },
     "execution_count": 40,
     "metadata": {},
     "output_type": "execute_result"
    }
   ],
   "source": [
    "df_total.shape"
   ]
  },
  {
   "cell_type": "code",
   "execution_count": 41,
   "metadata": {},
   "outputs": [
    {
     "data": {
      "text/plain": [
       "libgeo                                                                                      0\n",
       "codgeo                                                                                      0\n",
       "pop_total                                                                                   0\n",
       "pop_age_0-5                                                                                 0\n",
       "pop_age_5-10                                                                                0\n",
       "pop_age_10-15                                                                               0\n",
       "pop_age_15-20                                                                               0\n",
       "pop_age_20-25                                                                               0\n",
       "pop_age_25-30                                                                               0\n",
       "pop_age_30-35                                                                               0\n",
       "pop_age_35-40                                                                               0\n",
       "pop_age_40-45                                                                               0\n",
       "pop_age_45-50                                                                               0\n",
       "pop_age_50-55                                                                               0\n",
       "pop_age_55-60                                                                               0\n",
       "pop_age_60-65                                                                               0\n",
       "pop_age_65-70                                                                               0\n",
       "pop_age_70-75                                                                               0\n",
       "pop_age_75-80                                                                               0\n",
       "pop_age_80+                                                                                 0\n",
       "pop_sexe_homme                                                                              0\n",
       "pop_sexe_femme                                                                              0\n",
       "pop_mode_cohabitation_enfant_dun_couple                                                     0\n",
       "pop_mode_cohabitation_enfant_dune_famille_monoparentale                                     0\n",
       "pop_mode_cohabitation_adulte_dun_couple_sans_enfant                                         0\n",
       "pop_mode_cohabitation_adulte_dun_couple_avec_enfant(s)                                      0\n",
       "pop_mode_cohabitation_adulte_dune_famille_monoparentale                                     0\n",
       "pop_mode_cohabitation_personne_vivant_hors_famille_dans_un_menage_de_plusieurs_personnes    0\n",
       "pop_mode_cohabitation_personne_vivant_seule                                                 0\n",
       "dtype: int64"
      ]
     },
     "execution_count": 41,
     "metadata": {},
     "output_type": "execute_result"
    }
   ],
   "source": [
    "df_total.isna().sum()"
   ]
  },
  {
   "cell_type": "code",
   "execution_count": 42,
   "metadata": {},
   "outputs": [],
   "source": [
    "df_total.to_csv('clean_data/population_clean.csv', index=False)"
   ]
  },
  {
   "cell_type": "code",
   "execution_count": null,
   "metadata": {},
   "outputs": [],
   "source": []
  }
 ],
 "metadata": {
  "kernelspec": {
   "display_name": "Python 3",
   "language": "python",
   "name": "python3"
  },
  "language_info": {
   "codemirror_mode": {
    "name": "ipython",
    "version": 3
   },
   "file_extension": ".py",
   "mimetype": "text/x-python",
   "name": "python",
   "nbconvert_exporter": "python",
   "pygments_lexer": "ipython3",
   "version": "3.8.5"
  }
 },
 "nbformat": 4,
 "nbformat_minor": 4
}
